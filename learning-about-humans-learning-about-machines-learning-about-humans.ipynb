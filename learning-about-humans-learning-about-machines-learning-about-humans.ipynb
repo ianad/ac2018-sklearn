{
 "cells": [
  {
   "cell_type": "code",
   "execution_count": 2,
   "metadata": {},
   "outputs": [],
   "source": [
    "import pandas as pd\n",
    "import os"
   ]
  },
  {
   "cell_type": "code",
   "execution_count": 30,
   "metadata": {},
   "outputs": [],
   "source": [
    "humans = pd.read_csv(os.path.join('.','notebooks','data','learning-humans.csv'))"
   ]
  },
  {
   "cell_type": "code",
   "execution_count": 31,
   "metadata": {
    "scrolled": true
   },
   "outputs": [],
   "source": [
    "humans=humans.dropna().drop(columns='Timestamp')"
   ]
  },
  {
   "cell_type": "code",
   "execution_count": 33,
   "metadata": {
    "scrolled": true
   },
   "outputs": [
    {
     "name": "stdout",
     "output_type": "stream",
     "text": [
      "favorite-programming-language\n",
      "favorite-monty-python-movie\n",
      "years-of-python-experience\n",
      "have-used-scikit-learn\n",
      "age\n",
      "in-the-terminator-franchise,-did-you-root-for-the-humans-or-the-machines\n",
      "which-is-the-better-game\n",
      "years-of-post-secondary-education-(eg-ba=4;-phd=10)\n",
      "how-successful-has-this-tutorial-been-so-far\n"
     ]
    }
   ],
   "source": [
    "for c in humans.columns:\n",
    "    c = c.lower().replace(' ','-').replace('.','').replace('!','').replace('?','')\n",
    "    print(c)"
   ]
  },
  {
   "cell_type": "code",
   "execution_count": 7,
   "metadata": {},
   "outputs": [],
   "source": [
    "humans_dum = pd.get_dummies(humans,columns=[])"
   ]
  },
  {
   "cell_type": "code",
   "execution_count": 24,
   "metadata": {},
   "outputs": [],
   "source": [
    "from sklearn.ensemble import RandomForestClassifier"
   ]
  },
  {
   "cell_type": "code",
   "execution_count": 25,
   "metadata": {},
   "outputs": [],
   "source": [
    "rnd = RandomForestClassifier(n_estimators=3,\n",
    "                           max_depth=4,\n",
    "                           random_state=42)"
   ]
  }
 ],
 "metadata": {
  "kernelspec": {
   "display_name": "Python 3",
   "language": "python",
   "name": "python3"
  },
  "language_info": {
   "codemirror_mode": {
    "name": "ipython",
    "version": 3
   },
   "file_extension": ".py",
   "mimetype": "text/x-python",
   "name": "python",
   "nbconvert_exporter": "python",
   "pygments_lexer": "ipython3",
   "version": "3.6.4"
  }
 },
 "nbformat": 4,
 "nbformat_minor": 2
}
